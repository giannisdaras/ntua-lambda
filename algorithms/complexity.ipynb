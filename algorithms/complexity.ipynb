{
 "cells": [
  {
   "cell_type": "markdown",
   "metadata": {},
   "source": [
    "# Different types of complexities\n",
    "\n",
    "1. f = O(g) \n",
    "$$\\exists c>0: \\quad \\lim_{n\\to\\infty}{f(n)} \\leq \\lim_{n\\to\\infty}{c\\cdot g(n)} $$\n",
    "\n",
    "Πρακτικά μας λέει, ότι η f(n) ασυμπτωτικά μπορεί να γίνει μικρότερη της g(n).\n",
    "2. f = Ω(g)\n",
    "$$\\exists c>0: \\quad \\lim_{n\\to\\infty}{f(n)} \\geq \\lim_{n\\to\\infty}{c\\cdot g(n)}$$\n",
    "\n",
    "Πρακτικά μας λέει, ότι η f(n) ασυμπτωτικά μπορεί να γίνει μεγαλύτερη της g(n).\n",
    "3. f = o(g) \n",
    "$$\\forall c>0: \\quad \\lim_{n\\to\\infty}{f(n)} < \\lim_{n\\to\\infty}{c\\cdot g(n)}$$\n",
    "\n",
    "Πρακτικά μας λέει, ότι η f(n) ασυμπτωτικά είναι πάντα μικρότερη της g(n).\n",
    "4. f = ω(g)\n",
    "$$\\forall c>0: \\quad \\lim_{n\\to\\infty}{f(n)} > \\lim_{n\\to\\infty}{c\\cdot g(n)}$$\n",
    "\n",
    "Πρακτικά μας λέει, ότι η f(n) ασυμπτωτικά είναι πάντα μεγαλύτερη της g(n).\n",
    "5. f = Θ(g) \n",
    "\n",
    "Πρακτικά μας λέει ότι η f(n) και η g(n) συμπεριφέρονται ασυμπτωτικά με τον ίδιο τρόπο (έχουν τον ίδιο ρυθμό ανάπτυξης).\n"
   ]
  },
  {
   "cell_type": "markdown",
   "metadata": {},
   "source": [
    "# Series related theorems\n",
    "1. Convergence theorems \n",
    "    1. Abel - Pringsheim \n",
    "    $$\\sum_{n=1}^{\\infty} a_n \\textrm{ converges} \\Rightarrow \\quad lim_{n\\to\\infty}{n \\cdot a_n}=0$$\n",
    "    2. D' Alembert (Ratio test) \n",
    "    $$\\sum_{n=1}^{\\infty} a_n \\textrm{converges iff } a_n > 0 \\quad \\forall n \\quad \\& \\quad lim_{n \\to \\infty}{\\frac{a_{n+1}}{a_n}= p < 1}$$\n",
    "    3. Cauchy Root test\n",
    "    $$\\sum_{n=1}^{\\infty} a_n \\textrm{converges iff } a_n > 0 \\quad \\forall n \\quad \\& \\quad lim_{n \\to \\infty} {\\sqrt[n]{a_n} = p < 1}$$\n",
    "    \n",
    "2. Mertens theorem \n",
    "\n",
    "$$\\sum_{n=0}^{\\infty}a_n \\textrm{converges} \\quad \\& \\quad \\sum_{n=0}^{\\infty}b_n \\textrm {converges} \\Rightarrow \\gamma_n =\\sum_{k=0}^{n}a_k\\cdot b_{n-k}, \\quad \\sum_{n=0}^{\\infty} \\gamma_n = \\big( \\sum_{n=0}^{\\infty}a_n \\big) \\cdot \\big( \\sum_{n=0}^{\\infty} b_n \\big)$$\n",
    "\n",
    "3. Telescopic series\n",
    "\n",
    "$$a_n = f(n) - f(n+1) \\Rightarrow S_n = f(1) - f(n+1)$$\n",
    "\n",
    "4. Integral test\n",
    "$$\\sum_{i=2}^{n}f(i) \\leq \\int_{i=1}^{n} f(x) dx$$\n",
    "\n",
    "# Useful results\n",
    "1. $$\\sum_{i=1}^{n}i^d = \\Theta(n^{d+1})$$\n",
    "2. $$\\sum_{i=1}^{n}i^2 = \\frac{n\\cdot (n+1) \\cdot (2n+1)}{6}$$\n",
    "3. Geometric series \n",
    "$$\\sum_{i=0}^{n}z^i = \\frac{1 - z^{n+1}}{1-z}$$\n",
    "4. $$ \\sum_{i=1}^{n} \\frac{1}{i} = \\Theta(logn)$$"
   ]
  },
  {
   "cell_type": "markdown",
   "metadata": {},
   "source": [
    "# Complexities hierarchy\n",
    "\n",
    "$$O(1), O(log \\ o \\ log \\ o \\ log (n)), O(logn), O(poly(logn)), O(sqrt(n)), O(n), O(nlogn), O(poly(n)), O(n^{logn}), O(2^n), O(3^n), O(n!), O(n^n), O(A(n))$$"
   ]
  },
  {
   "cell_type": "markdown",
   "metadata": {},
   "source": [
    "# Exercises\n",
    "\n",
    "1. $$f(n) = 2^{n+5}, \\quad g(n)=2^n$$\n",
    "$$lim_{n\\to\\infty}\\frac{f}{g}= 2^5 \\Rightarrow f = O(g), f = \\Theta(g), f = \\Omega(g)$$\n",
    "2. $$f(n) = n^4 - n^3 \\quad g(n)=16^{logn}=n^4 \\Rightarrow f = \\Theta(g)=O(g)=\\Omega(g)$$\n",
    "3. $$f(n) = 5^{4n} \\quad g(n) = 10^{2n}$$\n",
    "$$\\lim_{n\\to\\infty}\\frac{f}{g} = \\lim_{n\\to\\infty}{\\big(\\frac{25}{10}\\big)^{2n}} = \\infty \\Rightarrow f = \\Omega(g)=\\omega(g)$$\n",
    "4. $$f(n) = n^{\\frac{1}{loglogn}} \\quad g(n) = n^{0.001}$$\n",
    "\n",
    "$$\\lim_{n\\to\\infty} \\frac{f}{g} = \\lim_{n\\to\\infty} \\frac{\\sqrt[loglogn]{n}}{\\sqrt[1000]{n}} = 0 \\Rightarrow f=O(g)=o(g)$$\n",
    "5. $$f(n)= n! \\quad g(n)=n^n \\Rightarrow f=O(g)=o(g)$$\n",
    "6. $$f(n)= n^{log^{20}n} \\quad g(n) = 2^n$$\n",
    "$$\\lim_{n\\to\\infty}\\frac{f}{g} = a \\Rightarrow \\lim_{n\\to\\infty}(logn^{log^{20}n} - log2^n) = log(a) \\equiv \n",
    "\\lim_{n\\to\\infty}(log^{21}n - n) = loga \\Rightarrow loga = -\\infty \\equiv a = 0 \\Rightarrow f=O(g)=o(g)$$"
   ]
  }
 ],
 "metadata": {
  "kernelspec": {
   "display_name": "Python 3",
   "language": "python",
   "name": "python3"
  },
  "language_info": {
   "codemirror_mode": {
    "name": "ipython",
    "version": 3
   },
   "file_extension": ".py",
   "mimetype": "text/x-python",
   "name": "python",
   "nbconvert_exporter": "python",
   "pygments_lexer": "ipython3",
   "version": "3.6.6"
  }
 },
 "nbformat": 4,
 "nbformat_minor": 2
}
